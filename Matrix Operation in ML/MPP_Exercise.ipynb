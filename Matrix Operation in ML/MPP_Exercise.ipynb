{
 "cells": [
  {
   "cell_type": "code",
   "execution_count": 1,
   "metadata": {},
   "outputs": [],
   "source": [
    "import torch"
   ]
  },
  {
   "cell_type": "code",
   "execution_count": 47,
   "metadata": {},
   "outputs": [],
   "source": [
    "X = torch.tensor([[-1, 2], [3,-2], [5, 7.]])\n",
    "\n",
    "U, sigma, VT = torch.svd(X)\n",
    "\n",
    "sigma = torch.linalg.inv(torch.diag(sigma))"
   ]
  },
  {
   "cell_type": "code",
   "execution_count": 48,
   "metadata": {},
   "outputs": [
    {
     "data": {
      "text/plain": [
       "(tensor([[ 0.1271,  0.4741],\n",
       "         [ 0.0016, -0.8785],\n",
       "         [ 0.9919, -0.0593]]),\n",
       " tensor([[0.1154, -0.0000, 0.0000],\n",
       "         [0.0000, 0.2436, 0.0000]]),\n",
       " tensor([[ 0.5580, -0.8298],\n",
       "         [ 0.8298,  0.5580]]))"
      ]
     },
     "execution_count": 48,
     "metadata": {},
     "output_type": "execute_result"
    }
   ],
   "source": [
    "t = torch.tensor([[0,0]])\n",
    "\n",
    "sigma = torch.cat((sigma, t.T), 1)\n",
    "U, sigma, VT"
   ]
  },
  {
   "cell_type": "code",
   "execution_count": 54,
   "metadata": {},
   "outputs": [
    {
     "data": {
      "text/plain": [
       "(torch.Size([2, 3]), torch.Size([3, 2]))"
      ]
     },
     "execution_count": 54,
     "metadata": {},
     "output_type": "execute_result"
    }
   ],
   "source": [
    "sigma.shape, U.shape"
   ]
  },
  {
   "cell_type": "code",
   "execution_count": 44,
   "metadata": {},
   "outputs": [
    {
     "data": {
      "text/plain": [
       "tensor([[-0.0877,  0.1777,  0.0758],\n",
       "        [ 0.0766, -0.1193,  0.0869]])"
      ]
     },
     "execution_count": 44,
     "metadata": {},
     "output_type": "execute_result"
    }
   ],
   "source": [
    "torch.pinverse(X)"
   ]
  }
 ],
 "metadata": {
  "kernelspec": {
   "display_name": "TF Alpha",
   "language": "python",
   "name": "tf_alpha"
  },
  "language_info": {
   "codemirror_mode": {
    "name": "ipython",
    "version": 3
   },
   "file_extension": ".py",
   "mimetype": "text/x-python",
   "name": "python",
   "nbconvert_exporter": "python",
   "pygments_lexer": "ipython3",
   "version": "3.7.13"
  },
  "orig_nbformat": 4,
  "vscode": {
   "interpreter": {
    "hash": "b2659b33f3e57db0634995bc6c30876fa743282f0ffe51364068f3d62cb642ac"
   }
  }
 },
 "nbformat": 4,
 "nbformat_minor": 2
}
