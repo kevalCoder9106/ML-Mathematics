{
 "cells": [
  {
   "cell_type": "code",
   "execution_count": null,
   "metadata": {},
   "outputs": [],
   "source": [
    "import pandas as pd\n",
    "import matplotlib.pyplot as plt\n",
    "import torch"
   ]
  },
  {
   "cell_type": "code",
   "execution_count": 43,
   "metadata": {},
   "outputs": [],
   "source": [
    "data = pd.read_csv('../data/real_estate_data.csv')\n",
    "\n",
    "x1 = torch.tensor(data['year'])\n",
    "w1 = torch.tensor(1000.).requires_grad_()\n",
    "x2 = torch.tensor(data['size'])\n",
    "w2 = torch.tensor(500.).requires_grad_()\n",
    "b = torch.tensor(1.).requires_grad_()\n",
    "y = torch.tensor(data['price'])"
   ]
  },
  {
   "cell_type": "code",
   "execution_count": 66,
   "metadata": {},
   "outputs": [
    {
     "data": {
      "text/plain": [
       "tensor(2.4391e+08, grad_fn=<AddBackward0>)"
      ]
     },
     "execution_count": 66,
     "metadata": {},
     "output_type": "execute_result"
    }
   ],
   "source": [
    "inp = []\n",
    "\n",
    "for x, w in zip([x1, x2], [w1, w2]):\n",
    "    t = x * w.item()\n",
    "    inp.append(t.tolist())\n",
    "\n",
    "torch.tensor(inp).sum() "
   ]
  },
  {
   "cell_type": "code",
   "execution_count": null,
   "metadata": {},
   "outputs": [],
   "source": [
    "def forward(xs, ws, b):\n",
    "    inp = []\n",
    "\n",
    "    for x, w in zip(xs, ws):\n",
    "        inp.append(x * w)\n",
    "    \n",
    "    return torch.sum(torch.tensor(inp)) + b \n",
    "\n",
    "def cost(yhat, y):\n",
    "    n = len(y)\n",
    "    return 1/n * torch.sum((yhat - y) ** 2)"
   ]
  },
  {
   "cell_type": "code",
   "execution_count": null,
   "metadata": {},
   "outputs": [],
   "source": [
    "optimizer = torch.optim.SGD([w1, w2], lr=0.001)\n",
    "model = torch.nn.Sequential()\n",
    "mse = torch.nn.MSELoss()"
   ]
  },
  {
   "cell_type": "code",
   "execution_count": null,
   "metadata": {},
   "outputs": [],
   "source": [
    "epoch = 10\n",
    "\n",
    "for i in range(epoch):\n",
    "    optimizer.zero_grad()\n",
    "    yhat = modle()\n",
    "    "
   ]
  },
  {
   "cell_type": "code",
   "execution_count": 41,
   "metadata": {},
   "outputs": [
    {
     "ename": "ValueError",
     "evalue": "only one element tensors can be converted to Python scalars",
     "output_type": "error",
     "traceback": [
      "\u001b[1;31m---------------------------------------------------------------------------\u001b[0m",
      "\u001b[1;31mValueError\u001b[0m                                Traceback (most recent call last)",
      "\u001b[1;32mc:\\Users\\DeCoder\\Mathematics\\Gradient Descent\\gradient_descent_torch.ipynb Cell 6\u001b[0m in \u001b[0;36m<cell line: 1>\u001b[1;34m()\u001b[0m\n\u001b[1;32m----> <a href='vscode-notebook-cell:/c%3A/Users/DeCoder/Mathematics/Gradient%20Descent/gradient_descent_torch.ipynb#W5sZmlsZQ%3D%3D?line=0'>1</a>\u001b[0m yhat \u001b[39m=\u001b[39m forward([x1, x2],[w1, w2], b)\n",
      "\u001b[1;32mc:\\Users\\DeCoder\\Mathematics\\Gradient Descent\\gradient_descent_torch.ipynb Cell 6\u001b[0m in \u001b[0;36mforward\u001b[1;34m(xs, ws, b)\u001b[0m\n\u001b[0;32m      <a href='vscode-notebook-cell:/c%3A/Users/DeCoder/Mathematics/Gradient%20Descent/gradient_descent_torch.ipynb#W5sZmlsZQ%3D%3D?line=3'>4</a>\u001b[0m \u001b[39mfor\u001b[39;00m x, w \u001b[39min\u001b[39;00m \u001b[39mzip\u001b[39m(xs, ws):\n\u001b[0;32m      <a href='vscode-notebook-cell:/c%3A/Users/DeCoder/Mathematics/Gradient%20Descent/gradient_descent_torch.ipynb#W5sZmlsZQ%3D%3D?line=4'>5</a>\u001b[0m     inp\u001b[39m.\u001b[39mappend(x \u001b[39m*\u001b[39m w)\n\u001b[1;32m----> <a href='vscode-notebook-cell:/c%3A/Users/DeCoder/Mathematics/Gradient%20Descent/gradient_descent_torch.ipynb#W5sZmlsZQ%3D%3D?line=6'>7</a>\u001b[0m \u001b[39mreturn\u001b[39;00m torch\u001b[39m.\u001b[39msum(torch\u001b[39m.\u001b[39;49mtensor(inp)) \u001b[39m+\u001b[39m b\n",
      "\u001b[1;31mValueError\u001b[0m: only one element tensors can be converted to Python scalars"
     ]
    }
   ],
   "source": [
    "yhat = forward([x1, x2],[w1, w2], b)"
   ]
  }
 ],
 "metadata": {
  "kernelspec": {
   "display_name": "Python 3.9.13 ('ml')",
   "language": "python",
   "name": "python3"
  },
  "language_info": {
   "codemirror_mode": {
    "name": "ipython",
    "version": 3
   },
   "file_extension": ".py",
   "mimetype": "text/x-python",
   "name": "python",
   "nbconvert_exporter": "python",
   "pygments_lexer": "ipython3",
   "version": "3.9.13"
  },
  "orig_nbformat": 4,
  "vscode": {
   "interpreter": {
    "hash": "7cf5bcee6e55edf9cbec8fe3c7f30338b7a08432029c5df07ea40e2bd48149b5"
   }
  }
 },
 "nbformat": 4,
 "nbformat_minor": 2
}
