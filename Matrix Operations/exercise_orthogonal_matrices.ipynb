{
 "cells": [
  {
   "cell_type": "code",
   "execution_count": 1,
   "metadata": {},
   "outputs": [],
   "source": [
    "import numpy as np"
   ]
  },
  {
   "cell_type": "code",
   "execution_count": 20,
   "metadata": {},
   "outputs": [
    {
     "data": {
      "text/plain": [
       "array([[1, 0, 0],\n",
       "       [0, 1, 0],\n",
       "       [0, 0, 1]])"
      ]
     },
     "execution_count": 20,
     "metadata": {},
     "output_type": "execute_result"
    }
   ],
   "source": [
    "a = np.array([[1,0,0],[0,1,0],[0,0,1]])\n",
    "a"
   ]
  },
  {
   "cell_type": "code",
   "execution_count": 13,
   "metadata": {},
   "outputs": [
    {
     "name": "stdout",
     "output_type": "stream",
     "text": [
      "Columns: [1 0 0] [0 1 0] \n",
      "Answer: [0 0 0] \n",
      "\n",
      "Columns: [1 0 0] [0 0 1] \n",
      "Answer: [0 0 0] \n",
      "\n",
      "Columns: [0 1 0] [0 0 1] \n",
      "Answer: [0 0 0] \n",
      "\n"
     ]
    }
   ],
   "source": [
    "for i in range(0,2):\n",
    "    for j in range(1,3):\n",
    "        if (i == j):\n",
    "            continue\n",
    "        else:\n",
    "            print(\"Columns:\", a[i], a[j], \"\\nAnswer:\", a[i] * a[j], \"\\n\")"
   ]
  },
  {
   "cell_type": "code",
   "execution_count": 27,
   "metadata": {},
   "outputs": [
    {
     "name": "stdout",
     "output_type": "stream",
     "text": [
      "For: [1 0 0]\n",
      "Sum:  1 \n",
      "\n",
      "\n",
      "For: [0 1 0]\n",
      "Sum:  1 \n",
      "\n",
      "\n",
      "For: [0 0 1]\n",
      "Sum:  1 \n",
      "\n",
      "\n"
     ]
    }
   ],
   "source": [
    "for i in a:\n",
    "    print(\"For:\", i)\n",
    "    sum = 0\n",
    "    for j in i:\n",
    "        sum += j ** 2\n",
    "    \n",
    "    print(\"Sum: \", sum, \"\\n\\n\")"
   ]
  },
  {
   "cell_type": "code",
   "execution_count": 32,
   "metadata": {},
   "outputs": [
    {
     "data": {
      "text/plain": [
       "array([[1., 0., 0., 0., 0., 0., 0., 0., 0., 0.],\n",
       "       [0., 1., 0., 0., 0., 0., 0., 0., 0., 0.],\n",
       "       [0., 0., 1., 0., 0., 0., 0., 0., 0., 0.],\n",
       "       [0., 0., 0., 1., 0., 0., 0., 0., 0., 0.],\n",
       "       [0., 0., 0., 0., 1., 0., 0., 0., 0., 0.],\n",
       "       [0., 0., 0., 0., 0., 1., 0., 0., 0., 0.],\n",
       "       [0., 0., 0., 0., 0., 0., 1., 0., 0., 0.],\n",
       "       [0., 0., 0., 0., 0., 0., 0., 1., 0., 0.],\n",
       "       [0., 0., 0., 0., 0., 0., 0., 0., 1., 0.],\n",
       "       [0., 0., 0., 0., 0., 0., 0., 0., 0., 1.]])"
      ]
     },
     "execution_count": 32,
     "metadata": {},
     "output_type": "execute_result"
    }
   ],
   "source": [
    "x = np.zeros((10,10))\n",
    "\n",
    "p = 0\n",
    "for i in x:\n",
    "    i[p] = 1\n",
    "    p += 1\n"
   ]
  },
  {
   "cell_type": "code",
   "execution_count": 45,
   "metadata": {},
   "outputs": [
    {
     "name": "stdout",
     "output_type": "stream",
     "text": [
      "[1. 0. 0. 0. 0. 0. 0. 0. 0. 0.] [0. 1. 0. 0. 0. 0. 0. 0. 0. 0.] \n",
      "Orthogonal dot product: 0.0\n",
      "[1. 0. 0. 0. 0. 0. 0. 0. 0. 0.] [0. 0. 1. 0. 0. 0. 0. 0. 0. 0.] \n",
      "Orthogonal dot product: 0.0\n",
      "[1. 0. 0. 0. 0. 0. 0. 0. 0. 0.] [0. 0. 0. 1. 0. 0. 0. 0. 0. 0.] \n",
      "Orthogonal dot product: 0.0\n",
      "[1. 0. 0. 0. 0. 0. 0. 0. 0. 0.] [0. 0. 0. 0. 1. 0. 0. 0. 0. 0.] \n",
      "Orthogonal dot product: 0.0\n",
      "[1. 0. 0. 0. 0. 0. 0. 0. 0. 0.] [0. 0. 0. 0. 0. 1. 0. 0. 0. 0.] \n",
      "Orthogonal dot product: 0.0\n",
      "[1. 0. 0. 0. 0. 0. 0. 0. 0. 0.] [0. 0. 0. 0. 0. 0. 1. 0. 0. 0.] \n",
      "Orthogonal dot product: 0.0\n",
      "[1. 0. 0. 0. 0. 0. 0. 0. 0. 0.] [0. 0. 0. 0. 0. 0. 0. 1. 0. 0.] \n",
      "Orthogonal dot product: 0.0\n",
      "[1. 0. 0. 0. 0. 0. 0. 0. 0. 0.] [0. 0. 0. 0. 0. 0. 0. 0. 1. 0.] \n",
      "Orthogonal dot product: 0.0\n",
      "[1. 0. 0. 0. 0. 0. 0. 0. 0. 0.] [0. 0. 0. 0. 0. 0. 0. 0. 0. 1.] \n",
      "Orthogonal dot product: 0.0\n",
      "[0. 1. 0. 0. 0. 0. 0. 0. 0. 0.] [0. 0. 1. 0. 0. 0. 0. 0. 0. 0.] \n",
      "Orthogonal dot product: 0.0\n",
      "[0. 1. 0. 0. 0. 0. 0. 0. 0. 0.] [0. 0. 0. 1. 0. 0. 0. 0. 0. 0.] \n",
      "Orthogonal dot product: 0.0\n",
      "[0. 1. 0. 0. 0. 0. 0. 0. 0. 0.] [0. 0. 0. 0. 1. 0. 0. 0. 0. 0.] \n",
      "Orthogonal dot product: 0.0\n",
      "[0. 1. 0. 0. 0. 0. 0. 0. 0. 0.] [0. 0. 0. 0. 0. 1. 0. 0. 0. 0.] \n",
      "Orthogonal dot product: 0.0\n",
      "[0. 1. 0. 0. 0. 0. 0. 0. 0. 0.] [0. 0. 0. 0. 0. 0. 1. 0. 0. 0.] \n",
      "Orthogonal dot product: 0.0\n",
      "[0. 1. 0. 0. 0. 0. 0. 0. 0. 0.] [0. 0. 0. 0. 0. 0. 0. 1. 0. 0.] \n",
      "Orthogonal dot product: 0.0\n",
      "[0. 1. 0. 0. 0. 0. 0. 0. 0. 0.] [0. 0. 0. 0. 0. 0. 0. 0. 1. 0.] \n",
      "Orthogonal dot product: 0.0\n",
      "[0. 1. 0. 0. 0. 0. 0. 0. 0. 0.] [0. 0. 0. 0. 0. 0. 0. 0. 0. 1.] \n",
      "Orthogonal dot product: 0.0\n",
      "[0. 0. 1. 0. 0. 0. 0. 0. 0. 0.] [0. 0. 0. 1. 0. 0. 0. 0. 0. 0.] \n",
      "Orthogonal dot product: 0.0\n",
      "[0. 0. 1. 0. 0. 0. 0. 0. 0. 0.] [0. 0. 0. 0. 1. 0. 0. 0. 0. 0.] \n",
      "Orthogonal dot product: 0.0\n",
      "[0. 0. 1. 0. 0. 0. 0. 0. 0. 0.] [0. 0. 0. 0. 0. 1. 0. 0. 0. 0.] \n",
      "Orthogonal dot product: 0.0\n",
      "[0. 0. 1. 0. 0. 0. 0. 0. 0. 0.] [0. 0. 0. 0. 0. 0. 1. 0. 0. 0.] \n",
      "Orthogonal dot product: 0.0\n",
      "[0. 0. 1. 0. 0. 0. 0. 0. 0. 0.] [0. 0. 0. 0. 0. 0. 0. 1. 0. 0.] \n",
      "Orthogonal dot product: 0.0\n",
      "[0. 0. 1. 0. 0. 0. 0. 0. 0. 0.] [0. 0. 0. 0. 0. 0. 0. 0. 1. 0.] \n",
      "Orthogonal dot product: 0.0\n",
      "[0. 0. 1. 0. 0. 0. 0. 0. 0. 0.] [0. 0. 0. 0. 0. 0. 0. 0. 0. 1.] \n",
      "Orthogonal dot product: 0.0\n",
      "[0. 0. 0. 1. 0. 0. 0. 0. 0. 0.] [0. 0. 0. 0. 1. 0. 0. 0. 0. 0.] \n",
      "Orthogonal dot product: 0.0\n",
      "[0. 0. 0. 1. 0. 0. 0. 0. 0. 0.] [0. 0. 0. 0. 0. 1. 0. 0. 0. 0.] \n",
      "Orthogonal dot product: 0.0\n",
      "[0. 0. 0. 1. 0. 0. 0. 0. 0. 0.] [0. 0. 0. 0. 0. 0. 1. 0. 0. 0.] \n",
      "Orthogonal dot product: 0.0\n",
      "[0. 0. 0. 1. 0. 0. 0. 0. 0. 0.] [0. 0. 0. 0. 0. 0. 0. 1. 0. 0.] \n",
      "Orthogonal dot product: 0.0\n",
      "[0. 0. 0. 1. 0. 0. 0. 0. 0. 0.] [0. 0. 0. 0. 0. 0. 0. 0. 1. 0.] \n",
      "Orthogonal dot product: 0.0\n",
      "[0. 0. 0. 1. 0. 0. 0. 0. 0. 0.] [0. 0. 0. 0. 0. 0. 0. 0. 0. 1.] \n",
      "Orthogonal dot product: 0.0\n",
      "[0. 0. 0. 0. 1. 0. 0. 0. 0. 0.] [0. 0. 0. 0. 0. 1. 0. 0. 0. 0.] \n",
      "Orthogonal dot product: 0.0\n",
      "[0. 0. 0. 0. 1. 0. 0. 0. 0. 0.] [0. 0. 0. 0. 0. 0. 1. 0. 0. 0.] \n",
      "Orthogonal dot product: 0.0\n",
      "[0. 0. 0. 0. 1. 0. 0. 0. 0. 0.] [0. 0. 0. 0. 0. 0. 0. 1. 0. 0.] \n",
      "Orthogonal dot product: 0.0\n",
      "[0. 0. 0. 0. 1. 0. 0. 0. 0. 0.] [0. 0. 0. 0. 0. 0. 0. 0. 1. 0.] \n",
      "Orthogonal dot product: 0.0\n",
      "[0. 0. 0. 0. 1. 0. 0. 0. 0. 0.] [0. 0. 0. 0. 0. 0. 0. 0. 0. 1.] \n",
      "Orthogonal dot product: 0.0\n",
      "[0. 0. 0. 0. 0. 1. 0. 0. 0. 0.] [0. 0. 0. 0. 0. 0. 1. 0. 0. 0.] \n",
      "Orthogonal dot product: 0.0\n",
      "[0. 0. 0. 0. 0. 1. 0. 0. 0. 0.] [0. 0. 0. 0. 0. 0. 0. 1. 0. 0.] \n",
      "Orthogonal dot product: 0.0\n",
      "[0. 0. 0. 0. 0. 1. 0. 0. 0. 0.] [0. 0. 0. 0. 0. 0. 0. 0. 1. 0.] \n",
      "Orthogonal dot product: 0.0\n",
      "[0. 0. 0. 0. 0. 1. 0. 0. 0. 0.] [0. 0. 0. 0. 0. 0. 0. 0. 0. 1.] \n",
      "Orthogonal dot product: 0.0\n",
      "[0. 0. 0. 0. 0. 0. 1. 0. 0. 0.] [0. 0. 0. 0. 0. 0. 0. 1. 0. 0.] \n",
      "Orthogonal dot product: 0.0\n",
      "[0. 0. 0. 0. 0. 0. 1. 0. 0. 0.] [0. 0. 0. 0. 0. 0. 0. 0. 1. 0.] \n",
      "Orthogonal dot product: 0.0\n",
      "[0. 0. 0. 0. 0. 0. 1. 0. 0. 0.] [0. 0. 0. 0. 0. 0. 0. 0. 0. 1.] \n",
      "Orthogonal dot product: 0.0\n",
      "[0. 0. 0. 0. 0. 0. 0. 1. 0. 0.] [0. 0. 0. 0. 0. 0. 0. 0. 1. 0.] \n",
      "Orthogonal dot product: 0.0\n",
      "[0. 0. 0. 0. 0. 0. 0. 1. 0. 0.] [0. 0. 0. 0. 0. 0. 0. 0. 0. 1.] \n",
      "Orthogonal dot product: 0.0\n",
      "[0. 0. 0. 0. 0. 0. 0. 0. 1. 0.] [0. 0. 0. 0. 0. 0. 0. 0. 0. 1.] \n",
      "Orthogonal dot product: 0.0\n"
     ]
    }
   ],
   "source": [
    "for i in range(0,9):\n",
    "    for j in range(i+1,10):\n",
    "        if i == j:\n",
    "            continue\n",
    "        else:\n",
    "            print(x[i], x[j], \"\\nOrthogonal dot product:\", np.dot(x[i], x[j]))"
   ]
  }
 ],
 "metadata": {
  "kernelspec": {
   "display_name": "TF Alpha",
   "language": "python",
   "name": "tf_alpha"
  },
  "language_info": {
   "codemirror_mode": {
    "name": "ipython",
    "version": 3
   },
   "file_extension": ".py",
   "mimetype": "text/x-python",
   "name": "python",
   "nbconvert_exporter": "python",
   "pygments_lexer": "ipython3",
   "version": "3.7.13"
  },
  "orig_nbformat": 4
 },
 "nbformat": 4,
 "nbformat_minor": 2
}
