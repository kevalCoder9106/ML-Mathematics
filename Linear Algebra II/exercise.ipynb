{
 "cells": [
  {
   "cell_type": "code",
   "execution_count": 1,
   "metadata": {},
   "outputs": [],
   "source": [
    "import torch"
   ]
  },
  {
   "cell_type": "code",
   "execution_count": 36,
   "metadata": {},
   "outputs": [
    {
     "data": {
      "text/plain": [
       "tensor([[25.0000,  2.0000, -5.0000],\n",
       "        [ 3.0000, -2.0000,  1.0000],\n",
       "        [ 5.0000,  7.0000,  4.0000]])"
      ]
     },
     "execution_count": 36,
     "metadata": {},
     "output_type": "execute_result"
    }
   ],
   "source": [
    "A = torch.tensor([[25, 2, -5], [3,-2,1], [5,7,4.]])\n",
    "\n",
    "evalues ,evectors = torch.eig(A, eigenvectors=True)\n",
    "inv = torch.linalg.inv(evectors)\n",
    "d = torch.diag(evalues[:,0])\n",
    "\n",
    "torch.matmul(evectors, torch.matmul(d, inv))"
   ]
  },
  {
   "cell_type": "code",
   "execution_count": 39,
   "metadata": {},
   "outputs": [
    {
     "data": {
      "text/plain": [
       "tensor([[21.7878,  3.4884,  7.5842],\n",
       "        [ 3.4884, -1.4390,  3.6725],\n",
       "        [ 7.5842,  3.6725,  6.6512]])"
      ]
     },
     "execution_count": 39,
     "metadata": {},
     "output_type": "execute_result"
    }
   ],
   "source": [
    "S = torch.tensor([[25, 2, -5], [3,-2,1], [5,7,4.]])\n",
    "\n",
    "evalues, evectors = torch.eig(S, eigenvectors=True)\n",
    "\n",
    "d = torch.diag(evalues[:,0])\n",
    "\n",
    "torch.matmul(evectors, torch.matmul(d, evectors.T))"
   ]
  }
 ],
 "metadata": {
  "kernelspec": {
   "display_name": "TF Alpha",
   "language": "python",
   "name": "tf_alpha"
  },
  "language_info": {
   "name": "python",
   "version": "3.7.13"
  },
  "orig_nbformat": 4
 },
 "nbformat": 4,
 "nbformat_minor": 2
}
