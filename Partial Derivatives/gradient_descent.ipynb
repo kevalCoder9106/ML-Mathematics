{
 "cells": [
  {
   "cell_type": "code",
   "execution_count": 1,
   "metadata": {},
   "outputs": [],
   "source": [
    "import torch\n",
    "import pandas as pd\n",
    "import matplotlib.pyplot as plt"
   ]
  },
  {
   "cell_type": "code",
   "execution_count": 2,
   "metadata": {},
   "outputs": [],
   "source": [
    "def forward_pass(x, m, b):\n",
    "    return m * x + b\n",
    "\n",
    "def mse(yhat, y):\n",
    "    return torch.sum((yhat - y) ** 2) / len(y)\n",
    "\n",
    "def plot(xt, yt, m, b):\n",
    "    fig, ax = plt.subplots()\n",
    "\n",
    "    ax.scatter(xt, yt)\n",
    "    xmin, xmax = ax.get_xlim()\n",
    "    ymin = forward_pass(xmin, m.detach().numpy(), b.detach().numpy())\n",
    "    ymax = forward_pass(xmax, m.detach().numpy(), b.detach().numpy())\n",
    "\n",
    "    ax.set_xlim([xmin, xmax])\n",
    "    _ = ax.plot([xmin, xmax], [ymin, ymax], c='C01')"
   ]
  },
  {
   "cell_type": "code",
   "execution_count": 3,
   "metadata": {},
   "outputs": [],
   "source": [
    "data = pd.read_csv('sat_gpa.csv')\n",
    "\n",
    "xt = torch.tensor(data['SAT'])\n",
    "yt = torch.tensor(data['GPA'])"
   ]
  },
  {
   "cell_type": "code",
   "execution_count": 19,
   "metadata": {},
   "outputs": [],
   "source": [
    "m = torch.tensor(-0.9).requires_grad_()\n",
    "b = torch.tensor(-0.2).requires_grad_()\n",
    "\n",
    "epoch = 1000\n",
    "lr = torch.tensor(0.001)\n",
    "n = len(yt)"
   ]
  },
  {
   "cell_type": "code",
   "execution_count": 23,
   "metadata": {},
   "outputs": [
    {
     "name": "stderr",
     "output_type": "stream",
     "text": [
      "c:\\Users\\DeCoder\\anaconda3\\envs\\ml\\lib\\site-packages\\torch\\_tensor.py:1013: UserWarning: The .grad attribute of a Tensor that is not a leaf Tensor is being accessed. Its .grad attribute won't be populated during autograd.backward(). If you indeed want the .grad field to be populated for a non-leaf Tensor, use .retain_grad() on the non-leaf Tensor. If you access the non-leaf Tensor by mistake, make sure you access the leaf Tensor instead. See github.com/pytorch/pytorch/pull/30531 for more informations. (Triggered internally at  C:\\Users\\builder\\tkoch\\workspace\\pytorch\\pytorch_1647970138273\\work\\build\\aten\\src\\ATen/core/TensorBody.h:417.)\n",
      "  return self._grad\n"
     ]
    },
    {
     "ename": "TypeError",
     "evalue": "unsupported operand type(s) for *: 'Tensor' and 'NoneType'",
     "output_type": "error",
     "traceback": [
      "\u001b[1;31m---------------------------------------------------------------------------\u001b[0m",
      "\u001b[1;31mTypeError\u001b[0m                                 Traceback (most recent call last)",
      "\u001b[1;32mc:\\Users\\DeCoder\\Mathematics\\Partial Derivatives\\gradient_descent.ipynb Cell 5\u001b[0m in \u001b[0;36m<cell line: 1>\u001b[1;34m()\u001b[0m\n\u001b[0;32m      <a href='vscode-notebook-cell:/c%3A/Users/DeCoder/Mathematics/Partial%20Derivatives/gradient_descent.ipynb#W4sZmlsZQ%3D%3D?line=2'>3</a>\u001b[0m C \u001b[39m=\u001b[39m mse(yhat, yt)\n\u001b[0;32m      <a href='vscode-notebook-cell:/c%3A/Users/DeCoder/Mathematics/Partial%20Derivatives/gradient_descent.ipynb#W4sZmlsZQ%3D%3D?line=3'>4</a>\u001b[0m C\u001b[39m.\u001b[39mbackward()\n\u001b[1;32m----> <a href='vscode-notebook-cell:/c%3A/Users/DeCoder/Mathematics/Partial%20Derivatives/gradient_descent.ipynb#W4sZmlsZQ%3D%3D?line=5'>6</a>\u001b[0m new_m \u001b[39m=\u001b[39m m \u001b[39m-\u001b[39m lr \u001b[39m*\u001b[39;49m m\u001b[39m.\u001b[39;49mgrad\n\u001b[0;32m      <a href='vscode-notebook-cell:/c%3A/Users/DeCoder/Mathematics/Partial%20Derivatives/gradient_descent.ipynb#W4sZmlsZQ%3D%3D?line=6'>7</a>\u001b[0m new_b \u001b[39m=\u001b[39m b \u001b[39m-\u001b[39m lr \u001b[39m*\u001b[39m b\u001b[39m.\u001b[39mgrad\n\u001b[0;32m      <a href='vscode-notebook-cell:/c%3A/Users/DeCoder/Mathematics/Partial%20Derivatives/gradient_descent.ipynb#W4sZmlsZQ%3D%3D?line=8'>9</a>\u001b[0m m \u001b[39m=\u001b[39m new_m\n",
      "\u001b[1;31mTypeError\u001b[0m: unsupported operand type(s) for *: 'Tensor' and 'NoneType'"
     ]
    }
   ],
   "source": [
    "for i in range(0, epoch):\n",
    "    yhat = forward_pass(xt, m, b)\n",
    "    C = mse(yhat, yt)\n",
    "    C.backward()\n",
    "\n",
    "    new_m = m - lr * m.grad\n",
    "    new_b = b - lr * b.grad\n",
    "\n",
    "    m = new_m\n",
    "    b = new_b\n",
    "    \n",
    "    "
   ]
  },
  {
   "cell_type": "code",
   "execution_count": 21,
   "metadata": {},
   "outputs": [
    {
     "data": {
      "image/png": "[encoded data removed]",
      "text/plain": [
       "<Figure size 640x480 with 1 Axes>"
      ]
     },
     "metadata": {},
     "output_type": "display_data"
    }
   ],
   "source": [
    "plot(xt, yt, m, b)"
   ]
  },
  {
   "cell_type": "code",
   "execution_count": 22,
   "metadata": {},
   "outputs": [
    {
     "data": {
      "text/plain": [
       "(tensor([nan, nan, nan, nan, nan, nan, nan, nan, nan, nan, nan, nan, nan, nan, nan, nan, nan, nan, nan, nan, nan, nan, nan, nan,\n",
       "         nan, nan, nan, nan, nan, nan, nan, nan, nan, nan, nan, nan, nan, nan, nan, nan, nan, nan, nan, nan, nan, nan, nan, nan,\n",
       "         nan, nan, nan, nan, nan, nan, nan, nan, nan, nan, nan, nan, nan, nan, nan, nan, nan, nan, nan, nan, nan, nan, nan, nan,\n",
       "         nan, nan, nan, nan, nan, nan, nan, nan, nan, nan, nan, nan],\n",
       "        dtype=torch.float64, grad_fn=<SubBackward0>),\n",
       " tensor(nan, dtype=torch.float64, grad_fn=<SubBackward0>))"
      ]
     },
     "execution_count": 22,
     "metadata": {},
     "output_type": "execute_result"
    }
   ],
   "source": []
  },
  {
   "cell_type": "code",
   "execution_count": 7,
   "metadata": {},
   "outputs": [
    {
     "name": "stderr",
     "output_type": "stream",
     "text": [
      "c:\\Users\\DeCoder\\anaconda3\\envs\\ml\\lib\\site-packages\\torch\\_tensor.py:1013: UserWarning: The .grad attribute of a Tensor that is not a leaf Tensor is being accessed. Its .grad attribute won't be populated during autograd.backward(). If you indeed want the .grad field to be populated for a non-leaf Tensor, use .retain_grad() on the non-leaf Tensor. If you access the non-leaf Tensor by mistake, make sure you access the leaf Tensor instead. See github.com/pytorch/pytorch/pull/30531 for more informations. (Triggered internally at  C:\\Users\\builder\\tkoch\\workspace\\pytorch\\pytorch_1647970138273\\work\\build\\aten\\src\\ATen/core/TensorBody.h:417.)\n",
      "  return self._grad\n"
     ]
    }
   ],
   "source": [
    "m.grad"
   ]
  }
 ],
 "metadata": {
  "kernelspec": {
   "display_name": "Python 3.9.13 ('ml')",
   "language": "python",
   "name": "python3"
  },
  "language_info": {
   "codemirror_mode": {
    "name": "ipython",
    "version": 3
   },
   "file_extension": ".py",
   "mimetype": "text/x-python",
   "name": "python",
   "nbconvert_exporter": "python",
   "pygments_lexer": "ipython3",
   "version": "3.9.13"
  },
  "vscode": {
   "interpreter": {
    "hash": "7cf5bcee6e55edf9cbec8fe3c7f30338b7a08432029c5df07ea40e2bd48149b5"
   }
  }
 },
 "nbformat": 4,
 "nbformat_minor": 2
}
