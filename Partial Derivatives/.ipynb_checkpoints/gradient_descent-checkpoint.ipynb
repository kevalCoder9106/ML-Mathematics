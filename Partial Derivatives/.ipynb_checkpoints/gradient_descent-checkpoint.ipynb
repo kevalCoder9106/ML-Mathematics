{
 "cells": [
  {
   "cell_type": "code",
   "execution_count": 1,
   "metadata": {},
   "outputs": [],
   "source": [
    "import torch\n",
    "import pandas as pd\n",
    "import matplotlib.pyplot as plt"
   ]
  },
  {
   "cell_type": "code",
   "execution_count": 2,
   "metadata": {},
   "outputs": [],
   "source": [
    "def forward_pass(x, m, b):\n",
    "    return m * x + b\n",
    "\n",
    "def mse(yhat, y):\n",
    "    return torch.sum((yhat - y) ** 2) / len(y)"
   ]
  },
  {
   "cell_type": "code",
   "execution_count": 3,
   "metadata": {},
   "outputs": [],
   "source": [
    "import numpy as np\n",
    "\n",
    "data = pd.read_csv('sat_gpa.csv')\n",
    "x = np.array(data['SAT'], dtype=np.float64)\n",
    "y = np.array(data['GPA'], dtype=np.float64)\n",
    "\n",
    "xt = torch.tensor(x)\n",
    "yt = torch.tensor(y)"
   ]
  },
  {
   "cell_type": "code",
   "execution_count": 4,
   "metadata": {},
   "outputs": [],
   "source": [
    "m = torch.tensor(2.).requires_grad_()\n",
    "b = torch.tensor(1.).requires_grad_()"
   ]
  },
  {
   "cell_type": "code",
   "execution_count": 5,
   "metadata": {},
   "outputs": [],
   "source": [
    "yhat = forward_pass(xt, m, b)\n",
    "C = mse(yhat, yt)\n",
    "C.backward()"
   ]
  },
  {
   "cell_type": "code",
   "execution_count": null,
   "metadata": {},
   "outputs": [],
   "source": [
    "fig, ax = plt.subplots()\n",
    "\n",
    "# xmin, xmax = ax.get_xlim()\n",
    "# ymin = forward_pass(xmin, m, b)\n",
    "# ymax = forward_pass(xmax, m, b)\n",
    "\n",
    "# ax.scatter(x,y)\n",
    "\n",
    "_ = ax.plot([xmin, xmax], [ymin, ymax])"
   ]
  },
  {
   "cell_type": "code",
   "execution_count": null,
   "metadata": {},
   "outputs": [],
   "source": []
  }
 ],
 "metadata": {
  "kernelspec": {
   "display_name": "TF Alpha",
   "language": "python",
   "name": "tf_alpha"
  },
  "language_info": {
   "codemirror_mode": {
    "name": "ipython",
    "version": 3
   },
   "file_extension": ".py",
   "mimetype": "text/x-python",
   "name": "python",
   "nbconvert_exporter": "python",
   "pygments_lexer": "ipython3",
   "version": "3.7.13"
  }
 },
 "nbformat": 4,
 "nbformat_minor": 2
}
